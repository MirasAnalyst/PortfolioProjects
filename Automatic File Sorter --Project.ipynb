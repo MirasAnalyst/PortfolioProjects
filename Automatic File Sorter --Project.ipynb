{
 "cells": [
  {
   "cell_type": "code",
   "execution_count": 14,
   "id": "dd1acf7b-c512-42af-8410-326d67433f70",
   "metadata": {},
   "outputs": [],
   "source": [
    "import os, shutil"
   ]
  },
  {
   "cell_type": "code",
   "execution_count": 16,
   "id": "1d00a049-1e88-432b-87a9-8431a093110a",
   "metadata": {},
   "outputs": [],
   "source": [
    "path = r\"C:/Users/miras/OneDrive/Рабочий стол/Portfolio/test/\""
   ]
  },
  {
   "cell_type": "code",
   "execution_count": 18,
   "id": "d0ead0f2-a547-421d-8f2b-fc8b0540957c",
   "metadata": {
    "scrolled": true
   },
   "outputs": [
    {
     "data": {
      "text/plain": [
       "['1s.png',\n",
       " 'csv files',\n",
       " 'fake file.txt',\n",
       " 'image files',\n",
       " 'IMG-20200929-WA0002.jpg',\n",
       " 'IMG_20210106_021405_539.jpg',\n",
       " 'Sales.csv',\n",
       " 'text files']"
      ]
     },
     "execution_count": 18,
     "metadata": {},
     "output_type": "execute_result"
    }
   ],
   "source": [
    "file_name = os.listdir(path)\n",
    "file_name"
   ]
  },
  {
   "cell_type": "code",
   "execution_count": 19,
   "id": "d66edb32-79f7-49d8-932f-0a04424725d1",
   "metadata": {},
   "outputs": [],
   "source": [
    "folder_names = ['csv files', 'image files', 'text files']\n",
    "\n",
    "for loop in range(0,3):\n",
    "    if not os.path.exists(path + folder_names[loop]):\n",
    "        #print(path + folder_names[loop])\n",
    "        os.makedirs(path + folder_names[loop])"
   ]
  },
  {
   "cell_type": "code",
   "execution_count": 22,
   "id": "2d48deaa-6b35-4dab-9e7f-76ea91e4bd85",
   "metadata": {},
   "outputs": [],
   "source": [
    "for file in file_name:\n",
    "    if '.csv' in file and not os.path.exists(path + 'csv files/' + file):\n",
    "        shutil.move(path + file, path + 'csv files/' + file)\n",
    "    elif ('.png' in file or '.jpg' in file) and not os.path.exists(path + 'image files/' + file):\n",
    "        shutil.move(path + file, path + 'image files/' + file)\n",
    "    elif '.txt' in file and not os.path.exists(path + 'text files/' + file):\n",
    "        shutil.move(path + file, path + 'text files/' + file)\n"
   ]
  },
  {
   "cell_type": "code",
   "execution_count": null,
   "id": "4c565ea0-9e0f-48ea-bd32-d030119655bc",
   "metadata": {},
   "outputs": [],
   "source": []
  }
 ],
 "metadata": {
  "kernelspec": {
   "display_name": "Python 3 (ipykernel)",
   "language": "python",
   "name": "python3"
  },
  "language_info": {
   "codemirror_mode": {
    "name": "ipython",
    "version": 3
   },
   "file_extension": ".py",
   "mimetype": "text/x-python",
   "name": "python",
   "nbconvert_exporter": "python",
   "pygments_lexer": "ipython3",
   "version": "3.12.7"
  }
 },
 "nbformat": 4,
 "nbformat_minor": 5
}
